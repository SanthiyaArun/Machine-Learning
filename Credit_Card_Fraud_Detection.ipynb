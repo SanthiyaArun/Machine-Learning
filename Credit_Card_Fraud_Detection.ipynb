{
 "cells": [
  {
   "cell_type": "code",
   "execution_count": 1,
   "id": "10d118a6",
   "metadata": {},
   "outputs": [],
   "source": [
    "import pandas as pd\n",
    "import matplotlib.pyplot as plt\n",
    "import numpy as np"
   ]
  },
  {
   "cell_type": "code",
   "execution_count": 25,
   "id": "6de438da",
   "metadata": {},
   "outputs": [
    {
     "name": "stdout",
     "output_type": "stream",
     "text": [
      "Note: you may need to restart the kernel to use updated packages.\n"
     ]
    },
    {
     "name": "stderr",
     "output_type": "stream",
     "text": [
      "ERROR: Could not find a version that satisfies the requirement statsmodel (from versions: none)\n",
      "ERROR: No matching distribution found for statsmodel\n"
     ]
    }
   ],
   "source": [
    "pip install statsmodel"
   ]
  },
  {
   "cell_type": "code",
   "execution_count": 3,
   "id": "216a5a9b",
   "metadata": {},
   "outputs": [
    {
     "name": "stdout",
     "output_type": "stream",
     "text": [
      "Requirement already satisfied: imblearn in c:\\users\\admin\\anaconda3\\envs\\machinelearning\\lib\\site-packages (0.0)\n",
      "Requirement already satisfied: imbalanced-learn in c:\\users\\admin\\anaconda3\\envs\\machinelearning\\lib\\site-packages (from imblearn) (0.10.1)\n",
      "Requirement already satisfied: joblib>=1.1.1 in c:\\users\\admin\\anaconda3\\envs\\machinelearning\\lib\\site-packages (from imbalanced-learn->imblearn) (1.2.0)\n",
      "Requirement already satisfied: scikit-learn>=1.0.2 in c:\\users\\admin\\anaconda3\\envs\\machinelearning\\lib\\site-packages (from imbalanced-learn->imblearn) (1.2.2)\n",
      "Requirement already satisfied: numpy>=1.17.3 in c:\\users\\admin\\anaconda3\\envs\\machinelearning\\lib\\site-packages (from imbalanced-learn->imblearn) (1.24.2)\n",
      "Requirement already satisfied: scipy>=1.3.2 in c:\\users\\admin\\anaconda3\\envs\\machinelearning\\lib\\site-packages (from imbalanced-learn->imblearn) (1.10.1)\n",
      "Requirement already satisfied: threadpoolctl>=2.0.0 in c:\\users\\admin\\anaconda3\\envs\\machinelearning\\lib\\site-packages (from imbalanced-learn->imblearn) (3.1.0)\n",
      "Note: you may need to restart the kernel to use updated packages.\n"
     ]
    }
   ],
   "source": [
    "pip install imblearn"
   ]
  },
  {
   "cell_type": "code",
   "execution_count": 4,
   "id": "d8f403b7",
   "metadata": {},
   "outputs": [],
   "source": [
    "from imblearn.combine import SMOTETomek"
   ]
  },
  {
   "cell_type": "code",
   "execution_count": 5,
   "id": "4ac1f8ce",
   "metadata": {},
   "outputs": [
    {
     "data": {
      "text/html": [
       "<div>\n",
       "<style scoped>\n",
       "    .dataframe tbody tr th:only-of-type {\n",
       "        vertical-align: middle;\n",
       "    }\n",
       "\n",
       "    .dataframe tbody tr th {\n",
       "        vertical-align: top;\n",
       "    }\n",
       "\n",
       "    .dataframe thead th {\n",
       "        text-align: right;\n",
       "    }\n",
       "</style>\n",
       "<table border=\"1\" class=\"dataframe\">\n",
       "  <thead>\n",
       "    <tr style=\"text-align: right;\">\n",
       "      <th></th>\n",
       "      <th>Time</th>\n",
       "      <th>V1</th>\n",
       "      <th>V2</th>\n",
       "      <th>V3</th>\n",
       "      <th>V4</th>\n",
       "      <th>V5</th>\n",
       "      <th>V6</th>\n",
       "      <th>V7</th>\n",
       "      <th>V8</th>\n",
       "      <th>V9</th>\n",
       "      <th>...</th>\n",
       "      <th>V21</th>\n",
       "      <th>V22</th>\n",
       "      <th>V23</th>\n",
       "      <th>V24</th>\n",
       "      <th>V25</th>\n",
       "      <th>V26</th>\n",
       "      <th>V27</th>\n",
       "      <th>V28</th>\n",
       "      <th>Amount</th>\n",
       "      <th>Class</th>\n",
       "    </tr>\n",
       "  </thead>\n",
       "  <tbody>\n",
       "    <tr>\n",
       "      <th>0</th>\n",
       "      <td>0.0</td>\n",
       "      <td>-1.359807</td>\n",
       "      <td>-0.072781</td>\n",
       "      <td>2.536347</td>\n",
       "      <td>1.378155</td>\n",
       "      <td>-0.338321</td>\n",
       "      <td>0.462388</td>\n",
       "      <td>0.239599</td>\n",
       "      <td>0.098698</td>\n",
       "      <td>0.363787</td>\n",
       "      <td>...</td>\n",
       "      <td>-0.018307</td>\n",
       "      <td>0.277838</td>\n",
       "      <td>-0.110474</td>\n",
       "      <td>0.066928</td>\n",
       "      <td>0.128539</td>\n",
       "      <td>-0.189115</td>\n",
       "      <td>0.133558</td>\n",
       "      <td>-0.021053</td>\n",
       "      <td>149.62</td>\n",
       "      <td>0</td>\n",
       "    </tr>\n",
       "    <tr>\n",
       "      <th>1</th>\n",
       "      <td>0.0</td>\n",
       "      <td>1.191857</td>\n",
       "      <td>0.266151</td>\n",
       "      <td>0.166480</td>\n",
       "      <td>0.448154</td>\n",
       "      <td>0.060018</td>\n",
       "      <td>-0.082361</td>\n",
       "      <td>-0.078803</td>\n",
       "      <td>0.085102</td>\n",
       "      <td>-0.255425</td>\n",
       "      <td>...</td>\n",
       "      <td>-0.225775</td>\n",
       "      <td>-0.638672</td>\n",
       "      <td>0.101288</td>\n",
       "      <td>-0.339846</td>\n",
       "      <td>0.167170</td>\n",
       "      <td>0.125895</td>\n",
       "      <td>-0.008983</td>\n",
       "      <td>0.014724</td>\n",
       "      <td>2.69</td>\n",
       "      <td>0</td>\n",
       "    </tr>\n",
       "    <tr>\n",
       "      <th>2</th>\n",
       "      <td>1.0</td>\n",
       "      <td>-1.358354</td>\n",
       "      <td>-1.340163</td>\n",
       "      <td>1.773209</td>\n",
       "      <td>0.379780</td>\n",
       "      <td>-0.503198</td>\n",
       "      <td>1.800499</td>\n",
       "      <td>0.791461</td>\n",
       "      <td>0.247676</td>\n",
       "      <td>-1.514654</td>\n",
       "      <td>...</td>\n",
       "      <td>0.247998</td>\n",
       "      <td>0.771679</td>\n",
       "      <td>0.909412</td>\n",
       "      <td>-0.689281</td>\n",
       "      <td>-0.327642</td>\n",
       "      <td>-0.139097</td>\n",
       "      <td>-0.055353</td>\n",
       "      <td>-0.059752</td>\n",
       "      <td>378.66</td>\n",
       "      <td>0</td>\n",
       "    </tr>\n",
       "    <tr>\n",
       "      <th>3</th>\n",
       "      <td>1.0</td>\n",
       "      <td>-0.966272</td>\n",
       "      <td>-0.185226</td>\n",
       "      <td>1.792993</td>\n",
       "      <td>-0.863291</td>\n",
       "      <td>-0.010309</td>\n",
       "      <td>1.247203</td>\n",
       "      <td>0.237609</td>\n",
       "      <td>0.377436</td>\n",
       "      <td>-1.387024</td>\n",
       "      <td>...</td>\n",
       "      <td>-0.108300</td>\n",
       "      <td>0.005274</td>\n",
       "      <td>-0.190321</td>\n",
       "      <td>-1.175575</td>\n",
       "      <td>0.647376</td>\n",
       "      <td>-0.221929</td>\n",
       "      <td>0.062723</td>\n",
       "      <td>0.061458</td>\n",
       "      <td>123.50</td>\n",
       "      <td>0</td>\n",
       "    </tr>\n",
       "    <tr>\n",
       "      <th>4</th>\n",
       "      <td>2.0</td>\n",
       "      <td>-1.158233</td>\n",
       "      <td>0.877737</td>\n",
       "      <td>1.548718</td>\n",
       "      <td>0.403034</td>\n",
       "      <td>-0.407193</td>\n",
       "      <td>0.095921</td>\n",
       "      <td>0.592941</td>\n",
       "      <td>-0.270533</td>\n",
       "      <td>0.817739</td>\n",
       "      <td>...</td>\n",
       "      <td>-0.009431</td>\n",
       "      <td>0.798278</td>\n",
       "      <td>-0.137458</td>\n",
       "      <td>0.141267</td>\n",
       "      <td>-0.206010</td>\n",
       "      <td>0.502292</td>\n",
       "      <td>0.219422</td>\n",
       "      <td>0.215153</td>\n",
       "      <td>69.99</td>\n",
       "      <td>0</td>\n",
       "    </tr>\n",
       "  </tbody>\n",
       "</table>\n",
       "<p>5 rows × 31 columns</p>\n",
       "</div>"
      ],
      "text/plain": [
       "   Time        V1        V2        V3        V4        V5        V6        V7  \\\n",
       "0   0.0 -1.359807 -0.072781  2.536347  1.378155 -0.338321  0.462388  0.239599   \n",
       "1   0.0  1.191857  0.266151  0.166480  0.448154  0.060018 -0.082361 -0.078803   \n",
       "2   1.0 -1.358354 -1.340163  1.773209  0.379780 -0.503198  1.800499  0.791461   \n",
       "3   1.0 -0.966272 -0.185226  1.792993 -0.863291 -0.010309  1.247203  0.237609   \n",
       "4   2.0 -1.158233  0.877737  1.548718  0.403034 -0.407193  0.095921  0.592941   \n",
       "\n",
       "         V8        V9  ...       V21       V22       V23       V24       V25  \\\n",
       "0  0.098698  0.363787  ... -0.018307  0.277838 -0.110474  0.066928  0.128539   \n",
       "1  0.085102 -0.255425  ... -0.225775 -0.638672  0.101288 -0.339846  0.167170   \n",
       "2  0.247676 -1.514654  ...  0.247998  0.771679  0.909412 -0.689281 -0.327642   \n",
       "3  0.377436 -1.387024  ... -0.108300  0.005274 -0.190321 -1.175575  0.647376   \n",
       "4 -0.270533  0.817739  ... -0.009431  0.798278 -0.137458  0.141267 -0.206010   \n",
       "\n",
       "        V26       V27       V28  Amount  Class  \n",
       "0 -0.189115  0.133558 -0.021053  149.62      0  \n",
       "1  0.125895 -0.008983  0.014724    2.69      0  \n",
       "2 -0.139097 -0.055353 -0.059752  378.66      0  \n",
       "3 -0.221929  0.062723  0.061458  123.50      0  \n",
       "4  0.502292  0.219422  0.215153   69.99      0  \n",
       "\n",
       "[5 rows x 31 columns]"
      ]
     },
     "execution_count": 5,
     "metadata": {},
     "output_type": "execute_result"
    }
   ],
   "source": [
    "credit_card_df=pd.read_csv(\"creditcard.csv\")\n",
    "credit_card_df.head()"
   ]
  },
  {
   "cell_type": "code",
   "execution_count": 6,
   "id": "3438018b",
   "metadata": {},
   "outputs": [
    {
     "data": {
      "text/plain": [
       "(284807, 31)"
      ]
     },
     "execution_count": 6,
     "metadata": {},
     "output_type": "execute_result"
    }
   ],
   "source": [
    "credit_card_df.shape"
   ]
  },
  {
   "cell_type": "code",
   "execution_count": 7,
   "id": "90971d10",
   "metadata": {},
   "outputs": [
    {
     "data": {
      "text/plain": [
       "Time      0\n",
       "V1        0\n",
       "V2        0\n",
       "V3        0\n",
       "V4        0\n",
       "V5        0\n",
       "V6        0\n",
       "V7        0\n",
       "V8        0\n",
       "V9        0\n",
       "V10       0\n",
       "V11       0\n",
       "V12       0\n",
       "V13       0\n",
       "V14       0\n",
       "V15       0\n",
       "V16       0\n",
       "V17       0\n",
       "V18       0\n",
       "V19       0\n",
       "V20       0\n",
       "V21       0\n",
       "V22       0\n",
       "V23       0\n",
       "V24       0\n",
       "V25       0\n",
       "V26       0\n",
       "V27       0\n",
       "V28       0\n",
       "Amount    0\n",
       "Class     0\n",
       "dtype: int64"
      ]
     },
     "execution_count": 7,
     "metadata": {},
     "output_type": "execute_result"
    }
   ],
   "source": [
    "#checking the no of missing values in each column\n",
    "credit_card_df.isnull().sum()"
   ]
  },
  {
   "cell_type": "code",
   "execution_count": 8,
   "id": "60f8f81c",
   "metadata": {},
   "outputs": [
    {
     "data": {
      "text/plain": [
       "0    284315\n",
       "1       492\n",
       "Name: Class, dtype: int64"
      ]
     },
     "execution_count": 8,
     "metadata": {},
     "output_type": "execute_result"
    }
   ],
   "source": [
    "#checking the no of legit and fradulent transactions\n",
    "credit_card_df[\"Class\"].value_counts()"
   ]
  },
  {
   "cell_type": "markdown",
   "id": "5d7f40cb",
   "metadata": {},
   "source": [
    "# Balancing the dataset"
   ]
  },
  {
   "cell_type": "code",
   "execution_count": 9,
   "id": "ecd738da",
   "metadata": {},
   "outputs": [],
   "source": [
    "legit = credit_card_df[credit_card_df.Class == 0]\n",
    "fraud = credit_card_df[credit_card_df.Class == 1]"
   ]
  },
  {
   "cell_type": "code",
   "execution_count": 10,
   "id": "a6ec7df8",
   "metadata": {},
   "outputs": [
    {
     "data": {
      "text/plain": [
       "((284315, 31), (492, 31))"
      ]
     },
     "execution_count": 10,
     "metadata": {},
     "output_type": "execute_result"
    }
   ],
   "source": [
    "legit.shape , fraud.shape"
   ]
  },
  {
   "cell_type": "code",
   "execution_count": 11,
   "id": "ff5c8c64",
   "metadata": {},
   "outputs": [
    {
     "data": {
      "text/plain": [
       "count    284315.000000\n",
       "mean         88.291022\n",
       "std         250.105092\n",
       "min           0.000000\n",
       "25%           5.650000\n",
       "50%          22.000000\n",
       "75%          77.050000\n",
       "max       25691.160000\n",
       "Name: Amount, dtype: float64"
      ]
     },
     "execution_count": 11,
     "metadata": {},
     "output_type": "execute_result"
    }
   ],
   "source": [
    "#statistical measure of the legit data\n",
    "legit.Amount.describe()"
   ]
  },
  {
   "cell_type": "code",
   "execution_count": 12,
   "id": "27567ac2",
   "metadata": {},
   "outputs": [
    {
     "data": {
      "text/plain": [
       "count     492.000000\n",
       "mean      122.211321\n",
       "std       256.683288\n",
       "min         0.000000\n",
       "25%         1.000000\n",
       "50%         9.250000\n",
       "75%       105.890000\n",
       "max      2125.870000\n",
       "Name: Amount, dtype: float64"
      ]
     },
     "execution_count": 12,
     "metadata": {},
     "output_type": "execute_result"
    }
   ],
   "source": [
    "#statistical measure of fraud data\n",
    "fraud.Amount.describe()"
   ]
  },
  {
   "cell_type": "markdown",
   "id": "5f7118f8",
   "metadata": {},
   "source": [
    "# Oversampling"
   ]
  },
  {
   "cell_type": "code",
   "execution_count": 13,
   "id": "50a0900e",
   "metadata": {},
   "outputs": [],
   "source": [
    "x = credit_card_df.drop(['Class'],axis=1)\n",
    "y = credit_card_df['Class']"
   ]
  },
  {
   "cell_type": "code",
   "execution_count": 14,
   "id": "b379a634",
   "metadata": {},
   "outputs": [
    {
     "data": {
      "text/plain": [
       "((284807, 30), (284807,))"
      ]
     },
     "execution_count": 14,
     "metadata": {},
     "output_type": "execute_result"
    }
   ],
   "source": [
    "x.shape , y.shape"
   ]
  },
  {
   "cell_type": "code",
   "execution_count": 15,
   "id": "9fccb7fa",
   "metadata": {},
   "outputs": [],
   "source": [
    "model = SMOTETomek()\n",
    "x_new, y_new = model.fit_resample(x,y)"
   ]
  },
  {
   "cell_type": "code",
   "execution_count": 17,
   "id": "24b68703",
   "metadata": {},
   "outputs": [
    {
     "data": {
      "text/plain": [
       "((567580, 30), (567580,))"
      ]
     },
     "execution_count": 17,
     "metadata": {},
     "output_type": "execute_result"
    }
   ],
   "source": [
    "x_new.shape, y_new.shape"
   ]
  },
  {
   "cell_type": "code",
   "execution_count": 18,
   "id": "35379e07",
   "metadata": {},
   "outputs": [],
   "source": [
    "resampled_df = pd.concat([x_new, y_new], axis=1)"
   ]
  },
  {
   "cell_type": "code",
   "execution_count": 19,
   "id": "e9ef888b",
   "metadata": {},
   "outputs": [
    {
     "data": {
      "text/plain": [
       "(567580, 31)"
      ]
     },
     "execution_count": 19,
     "metadata": {},
     "output_type": "execute_result"
    }
   ],
   "source": [
    "resampled_df.shape"
   ]
  },
  {
   "cell_type": "markdown",
   "id": "eb3ab5db",
   "metadata": {},
   "source": [
    "# Split the data into Training data & Testing Data"
   ]
  },
  {
   "cell_type": "code",
   "execution_count": 20,
   "id": "26060b97",
   "metadata": {},
   "outputs": [],
   "source": [
    "X = resampled_df.drop(columns='Class', axis=1)\n",
    "Y = resampled_df['Class']"
   ]
  },
  {
   "cell_type": "code",
   "execution_count": 21,
   "id": "6823c045",
   "metadata": {},
   "outputs": [
    {
     "data": {
      "text/plain": [
       "(567580, 30)"
      ]
     },
     "execution_count": 21,
     "metadata": {},
     "output_type": "execute_result"
    }
   ],
   "source": [
    "X.shape"
   ]
  },
  {
   "cell_type": "code",
   "execution_count": 22,
   "id": "7a3f6a4f",
   "metadata": {},
   "outputs": [
    {
     "data": {
      "text/plain": [
       "(567580,)"
      ]
     },
     "execution_count": 22,
     "metadata": {},
     "output_type": "execute_result"
    }
   ],
   "source": [
    "Y.shape"
   ]
  },
  {
   "cell_type": "code",
   "execution_count": 34,
   "id": "2026d6fc",
   "metadata": {},
   "outputs": [],
   "source": [
    "import statsmodels.api as sm\n",
    "x_cons=sm.add_constant(X)"
   ]
  },
  {
   "cell_type": "code",
   "execution_count": 109,
   "id": "064e5b3e",
   "metadata": {},
   "outputs": [],
   "source": [
    "from sklearn.model_selection import train_test_split\n",
    "\n",
    "X_train, X_test, y_train, y_test = train_test_split(x_cons,Y,test_size = 0.2 , random_state = 42)"
   ]
  },
  {
   "cell_type": "markdown",
   "id": "47d85669",
   "metadata": {},
   "source": [
    "# ModelTraining-Logistic Regression"
   ]
  },
  {
   "cell_type": "code",
   "execution_count": 110,
   "id": "208b1b6c",
   "metadata": {},
   "outputs": [],
   "source": [
    "model=sm.Logit(y_train,X_train)"
   ]
  },
  {
   "cell_type": "code",
   "execution_count": 111,
   "id": "cda1f2ff",
   "metadata": {},
   "outputs": [
    {
     "name": "stdout",
     "output_type": "stream",
     "text": [
      "Warning: Maximum number of iterations has been exceeded.\n",
      "         Current function value: 0.081358\n",
      "         Iterations: 35\n"
     ]
    },
    {
     "name": "stderr",
     "output_type": "stream",
     "text": [
      "C:\\Users\\ADMIN\\anaconda3\\envs\\MachineLearning\\lib\\site-packages\\statsmodels\\base\\model.py:604: ConvergenceWarning: Maximum Likelihood optimization failed to converge. Check mle_retvals\n",
      "  warnings.warn(\"Maximum Likelihood optimization failed to \"\n"
     ]
    }
   ],
   "source": [
    "result_log=model.fit()"
   ]
  },
  {
   "cell_type": "code",
   "execution_count": 112,
   "id": "73a591ec",
   "metadata": {},
   "outputs": [
    {
     "data": {
      "text/html": [
       "<table class=\"simpletable\">\n",
       "<caption>Logit Regression Results</caption>\n",
       "<tr>\n",
       "  <th>Dep. Variable:</th>         <td>Class</td>      <th>  No. Observations:  </th>   <td>   787</td>  \n",
       "</tr>\n",
       "<tr>\n",
       "  <th>Model:</th>                 <td>Logit</td>      <th>  Df Residuals:      </th>   <td>   756</td>  \n",
       "</tr>\n",
       "<tr>\n",
       "  <th>Method:</th>                 <td>MLE</td>       <th>  Df Model:          </th>   <td>    30</td>  \n",
       "</tr>\n",
       "<tr>\n",
       "  <th>Date:</th>            <td>Tue, 25 Apr 2023</td> <th>  Pseudo R-squ.:     </th>   <td>0.8826</td>  \n",
       "</tr>\n",
       "<tr>\n",
       "  <th>Time:</th>                <td>16:42:29</td>     <th>  Log-Likelihood:    </th>  <td> -64.029</td> \n",
       "</tr>\n",
       "<tr>\n",
       "  <th>converged:</th>             <td>False</td>      <th>  LL-Null:           </th>  <td> -545.51</td> \n",
       "</tr>\n",
       "<tr>\n",
       "  <th>Covariance Type:</th>     <td>nonrobust</td>    <th>  LLR p-value:       </th> <td>3.353e-183</td>\n",
       "</tr>\n",
       "</table>\n",
       "<table class=\"simpletable\">\n",
       "<tr>\n",
       "     <td></td>       <th>coef</th>     <th>std err</th>      <th>z</th>      <th>P>|z|</th>  <th>[0.025</th>    <th>0.975]</th>  \n",
       "</tr>\n",
       "<tr>\n",
       "  <th>const</th>  <td>  -57.9350</td> <td> 2.67e+05</td> <td>   -0.000</td> <td> 1.000</td> <td>-5.24e+05</td> <td> 5.24e+05</td>\n",
       "</tr>\n",
       "<tr>\n",
       "  <th>Time</th>   <td>-2.553e-05</td> <td>  9.2e-06</td> <td>   -2.775</td> <td> 0.006</td> <td>-4.36e-05</td> <td> -7.5e-06</td>\n",
       "</tr>\n",
       "<tr>\n",
       "  <th>V1</th>     <td>   10.6688</td> <td>  5.8e+04</td> <td>    0.000</td> <td> 1.000</td> <td>-1.14e+05</td> <td> 1.14e+05</td>\n",
       "</tr>\n",
       "<tr>\n",
       "  <th>V2</th>     <td>   83.5703</td> <td> 3.94e+05</td> <td>    0.000</td> <td> 1.000</td> <td>-7.72e+05</td> <td> 7.72e+05</td>\n",
       "</tr>\n",
       "<tr>\n",
       "  <th>V3</th>     <td>  -35.6056</td> <td> 1.52e+05</td> <td>   -0.000</td> <td> 1.000</td> <td>-2.99e+05</td> <td> 2.99e+05</td>\n",
       "</tr>\n",
       "<tr>\n",
       "  <th>V4</th>     <td>   29.4590</td> <td> 1.24e+05</td> <td>    0.000</td> <td> 1.000</td> <td>-2.43e+05</td> <td> 2.44e+05</td>\n",
       "</tr>\n",
       "<tr>\n",
       "  <th>V5</th>     <td>    0.5781</td> <td> 1.38e+04</td> <td>  4.2e-05</td> <td> 1.000</td> <td> -2.7e+04</td> <td>  2.7e+04</td>\n",
       "</tr>\n",
       "<tr>\n",
       "  <th>V6</th>     <td>  -38.6545</td> <td> 1.79e+05</td> <td>   -0.000</td> <td> 1.000</td> <td>-3.51e+05</td> <td> 3.51e+05</td>\n",
       "</tr>\n",
       "<tr>\n",
       "  <th>V7</th>     <td> -134.2216</td> <td> 6.17e+05</td> <td>   -0.000</td> <td> 1.000</td> <td>-1.21e+06</td> <td> 1.21e+06</td>\n",
       "</tr>\n",
       "<tr>\n",
       "  <th>V8</th>     <td>   22.6249</td> <td> 1.05e+05</td> <td>    0.000</td> <td> 1.000</td> <td>-2.05e+05</td> <td> 2.05e+05</td>\n",
       "</tr>\n",
       "<tr>\n",
       "  <th>V9</th>     <td>  -43.1708</td> <td> 1.88e+05</td> <td>   -0.000</td> <td> 1.000</td> <td>-3.69e+05</td> <td> 3.69e+05</td>\n",
       "</tr>\n",
       "<tr>\n",
       "  <th>V10</th>    <td>  -97.5023</td> <td> 4.33e+05</td> <td>   -0.000</td> <td> 1.000</td> <td>-8.48e+05</td> <td> 8.48e+05</td>\n",
       "</tr>\n",
       "<tr>\n",
       "  <th>V11</th>    <td>   79.9781</td> <td> 3.67e+05</td> <td>    0.000</td> <td> 1.000</td> <td> -7.2e+05</td> <td>  7.2e+05</td>\n",
       "</tr>\n",
       "<tr>\n",
       "  <th>V12</th>    <td> -144.7212</td> <td>  6.6e+05</td> <td>   -0.000</td> <td> 1.000</td> <td>-1.29e+06</td> <td> 1.29e+06</td>\n",
       "</tr>\n",
       "<tr>\n",
       "  <th>V13</th>    <td>   -3.7898</td> <td> 1.74e+04</td> <td>   -0.000</td> <td> 1.000</td> <td>-3.41e+04</td> <td> 3.41e+04</td>\n",
       "</tr>\n",
       "<tr>\n",
       "  <th>V14</th>    <td> -157.9774</td> <td>  7.2e+05</td> <td>   -0.000</td> <td> 1.000</td> <td>-1.41e+06</td> <td> 1.41e+06</td>\n",
       "</tr>\n",
       "<tr>\n",
       "  <th>V15</th>    <td>   -5.8231</td> <td> 2.57e+04</td> <td>   -0.000</td> <td> 1.000</td> <td>-5.04e+04</td> <td> 5.04e+04</td>\n",
       "</tr>\n",
       "<tr>\n",
       "  <th>V16</th>    <td> -138.6557</td> <td> 6.35e+05</td> <td>   -0.000</td> <td> 1.000</td> <td>-1.25e+06</td> <td> 1.24e+06</td>\n",
       "</tr>\n",
       "<tr>\n",
       "  <th>V17</th>    <td> -244.4784</td> <td> 1.11e+06</td> <td>   -0.000</td> <td> 1.000</td> <td>-2.18e+06</td> <td> 2.18e+06</td>\n",
       "</tr>\n",
       "<tr>\n",
       "  <th>V18</th>    <td>  -92.8596</td> <td> 4.26e+05</td> <td>   -0.000</td> <td> 1.000</td> <td>-8.35e+05</td> <td> 8.35e+05</td>\n",
       "</tr>\n",
       "<tr>\n",
       "  <th>V19</th>    <td>   39.0570</td> <td> 1.77e+05</td> <td>    0.000</td> <td> 1.000</td> <td>-3.46e+05</td> <td> 3.47e+05</td>\n",
       "</tr>\n",
       "<tr>\n",
       "  <th>V20</th>    <td>  -27.5938</td> <td>  1.2e+05</td> <td>   -0.000</td> <td> 1.000</td> <td>-2.35e+05</td> <td> 2.35e+05</td>\n",
       "</tr>\n",
       "<tr>\n",
       "  <th>V21</th>    <td>    6.6628</td> <td> 2.86e+04</td> <td>    0.000</td> <td> 1.000</td> <td>-5.61e+04</td> <td> 5.61e+04</td>\n",
       "</tr>\n",
       "<tr>\n",
       "  <th>V22</th>    <td>   17.6240</td> <td> 7.83e+04</td> <td>    0.000</td> <td> 1.000</td> <td>-1.53e+05</td> <td> 1.54e+05</td>\n",
       "</tr>\n",
       "<tr>\n",
       "  <th>V23</th>    <td>   50.4644</td> <td> 2.37e+05</td> <td>    0.000</td> <td> 1.000</td> <td>-4.64e+05</td> <td> 4.64e+05</td>\n",
       "</tr>\n",
       "<tr>\n",
       "  <th>V24</th>    <td>   -4.2754</td> <td> 2.25e+04</td> <td>   -0.000</td> <td> 1.000</td> <td>-4.42e+04</td> <td> 4.42e+04</td>\n",
       "</tr>\n",
       "<tr>\n",
       "  <th>V25</th>    <td>   22.1063</td> <td> 1.08e+05</td> <td>    0.000</td> <td> 1.000</td> <td>-2.11e+05</td> <td> 2.11e+05</td>\n",
       "</tr>\n",
       "<tr>\n",
       "  <th>V26</th>    <td>    5.6848</td> <td> 2.72e+04</td> <td>    0.000</td> <td> 1.000</td> <td>-5.32e+04</td> <td> 5.32e+04</td>\n",
       "</tr>\n",
       "<tr>\n",
       "  <th>V27</th>    <td>   18.6466</td> <td> 8.46e+04</td> <td>    0.000</td> <td> 1.000</td> <td>-1.66e+05</td> <td> 1.66e+05</td>\n",
       "</tr>\n",
       "<tr>\n",
       "  <th>V28</th>    <td>   55.3520</td> <td> 2.87e+05</td> <td>    0.000</td> <td> 1.000</td> <td>-5.63e+05</td> <td> 5.63e+05</td>\n",
       "</tr>\n",
       "<tr>\n",
       "  <th>Amount</th> <td>    0.6439</td> <td> 2734.812</td> <td>    0.000</td> <td> 1.000</td> <td>-5359.489</td> <td> 5360.776</td>\n",
       "</tr>\n",
       "</table><br/><br/>Possibly complete quasi-separation: A fraction 0.57 of observations can be<br/>perfectly predicted. This might indicate that there is complete<br/>quasi-separation. In this case some parameters will not be identified."
      ],
      "text/plain": [
       "<class 'statsmodels.iolib.summary.Summary'>\n",
       "\"\"\"\n",
       "                           Logit Regression Results                           \n",
       "==============================================================================\n",
       "Dep. Variable:                  Class   No. Observations:                  787\n",
       "Model:                          Logit   Df Residuals:                      756\n",
       "Method:                           MLE   Df Model:                           30\n",
       "Date:                Tue, 25 Apr 2023   Pseudo R-squ.:                  0.8826\n",
       "Time:                        16:42:29   Log-Likelihood:                -64.029\n",
       "converged:                      False   LL-Null:                       -545.51\n",
       "Covariance Type:            nonrobust   LLR p-value:                3.353e-183\n",
       "==============================================================================\n",
       "                 coef    std err          z      P>|z|      [0.025      0.975]\n",
       "------------------------------------------------------------------------------\n",
       "const        -57.9350   2.67e+05     -0.000      1.000   -5.24e+05    5.24e+05\n",
       "Time       -2.553e-05    9.2e-06     -2.775      0.006   -4.36e-05    -7.5e-06\n",
       "V1            10.6688    5.8e+04      0.000      1.000   -1.14e+05    1.14e+05\n",
       "V2            83.5703   3.94e+05      0.000      1.000   -7.72e+05    7.72e+05\n",
       "V3           -35.6056   1.52e+05     -0.000      1.000   -2.99e+05    2.99e+05\n",
       "V4            29.4590   1.24e+05      0.000      1.000   -2.43e+05    2.44e+05\n",
       "V5             0.5781   1.38e+04    4.2e-05      1.000    -2.7e+04     2.7e+04\n",
       "V6           -38.6545   1.79e+05     -0.000      1.000   -3.51e+05    3.51e+05\n",
       "V7          -134.2216   6.17e+05     -0.000      1.000   -1.21e+06    1.21e+06\n",
       "V8            22.6249   1.05e+05      0.000      1.000   -2.05e+05    2.05e+05\n",
       "V9           -43.1708   1.88e+05     -0.000      1.000   -3.69e+05    3.69e+05\n",
       "V10          -97.5023   4.33e+05     -0.000      1.000   -8.48e+05    8.48e+05\n",
       "V11           79.9781   3.67e+05      0.000      1.000    -7.2e+05     7.2e+05\n",
       "V12         -144.7212    6.6e+05     -0.000      1.000   -1.29e+06    1.29e+06\n",
       "V13           -3.7898   1.74e+04     -0.000      1.000   -3.41e+04    3.41e+04\n",
       "V14         -157.9774    7.2e+05     -0.000      1.000   -1.41e+06    1.41e+06\n",
       "V15           -5.8231   2.57e+04     -0.000      1.000   -5.04e+04    5.04e+04\n",
       "V16         -138.6557   6.35e+05     -0.000      1.000   -1.25e+06    1.24e+06\n",
       "V17         -244.4784   1.11e+06     -0.000      1.000   -2.18e+06    2.18e+06\n",
       "V18          -92.8596   4.26e+05     -0.000      1.000   -8.35e+05    8.35e+05\n",
       "V19           39.0570   1.77e+05      0.000      1.000   -3.46e+05    3.47e+05\n",
       "V20          -27.5938    1.2e+05     -0.000      1.000   -2.35e+05    2.35e+05\n",
       "V21            6.6628   2.86e+04      0.000      1.000   -5.61e+04    5.61e+04\n",
       "V22           17.6240   7.83e+04      0.000      1.000   -1.53e+05    1.54e+05\n",
       "V23           50.4644   2.37e+05      0.000      1.000   -4.64e+05    4.64e+05\n",
       "V24           -4.2754   2.25e+04     -0.000      1.000   -4.42e+04    4.42e+04\n",
       "V25           22.1063   1.08e+05      0.000      1.000   -2.11e+05    2.11e+05\n",
       "V26            5.6848   2.72e+04      0.000      1.000   -5.32e+04    5.32e+04\n",
       "V27           18.6466   8.46e+04      0.000      1.000   -1.66e+05    1.66e+05\n",
       "V28           55.3520   2.87e+05      0.000      1.000   -5.63e+05    5.63e+05\n",
       "Amount         0.6439   2734.812      0.000      1.000   -5359.489    5360.776\n",
       "==============================================================================\n",
       "\n",
       "Possibly complete quasi-separation: A fraction 0.57 of observations can be\n",
       "perfectly predicted. This might indicate that there is complete\n",
       "quasi-separation. In this case some parameters will not be identified.\n",
       "\"\"\""
      ]
     },
     "execution_count": 112,
     "metadata": {},
     "output_type": "execute_result"
    }
   ],
   "source": [
    "result_log.summary()"
   ]
  },
  {
   "cell_type": "code",
   "execution_count": 124,
   "id": "db987d15",
   "metadata": {},
   "outputs": [
    {
     "data": {
      "text/plain": [
       "613    1\n",
       "451    0\n",
       "731    1\n",
       "436    0\n",
       "275    0\n",
       "      ..\n",
       "292    0\n",
       "209    0\n",
       "506    1\n",
       "49     0\n",
       "717    1\n",
       "Length: 197, dtype: int32"
      ]
     },
     "execution_count": 124,
     "metadata": {},
     "output_type": "execute_result"
    }
   ],
   "source": [
    "y_pred = result_log.predict(X_test)\n",
    "y_pred=cm_df2.round().astype(int)\n",
    "y_pred"
   ]
  },
  {
   "cell_type": "code",
   "execution_count": 125,
   "id": "1a3474ea",
   "metadata": {},
   "outputs": [
    {
     "name": "stdout",
     "output_type": "stream",
     "text": [
      "Accuracy: 0.949238578680203\n"
     ]
    }
   ],
   "source": [
    "# Calculate the accuracy of the model\n",
    "accuracy = accuracy_score(y_test, y_pred)\n",
    "print('Accuracy:', accuracy)"
   ]
  }
 ],
 "metadata": {
  "kernelspec": {
   "display_name": "Python 3 (ipykernel)",
   "language": "python",
   "name": "python3"
  },
  "language_info": {
   "codemirror_mode": {
    "name": "ipython",
    "version": 3
   },
   "file_extension": ".py",
   "mimetype": "text/x-python",
   "name": "python",
   "nbconvert_exporter": "python",
   "pygments_lexer": "ipython3",
   "version": "3.9.16"
  }
 },
 "nbformat": 4,
 "nbformat_minor": 5
}
